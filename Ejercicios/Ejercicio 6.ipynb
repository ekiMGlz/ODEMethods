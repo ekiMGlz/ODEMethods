{
 "cells": [
  {
   "cell_type": "code",
   "execution_count": 1,
   "metadata": {},
   "outputs": [],
   "source": [
    "import sys\n",
    "sys.path.append('../')\n",
    "import numpy as np\n",
    "import matplotlib.pyplot as plt\n",
    "from math import *\n",
    "import odesolver\n",
    "from scipy import optimize as op"
   ]
  },
  {
   "cell_type": "markdown",
   "metadata": {
    "collapsed": true
   },
   "source": [
    "# Ejercicio 6"
   ]
  },
  {
   "cell_type": "markdown",
   "metadata": {},
   "source": [
    "Tomemos el siguiente PVI: \n",
    "\n",
    "\\begin{array} $y'' = 10y' (1 - y)\n",
    "\\\\y(0)=1 \\\\ y(1) = 1 - \\frac{\\pi}{20}\n",
    "\\end{array}\n",
    "\n",
    "Para $t \\in [0,1]$. Luego podemos reescribirlo como un sistema de ecuaciones de primer orden de la siguiente manera:\n",
    "\n",
    "\\begin{array} $y_1' = y_2 \\\\\n",
    "y_2' = 10 y_2 (1 - y_1) \\end{array}\n",
    "\n",
    "\n",
    "\n",
    "Con solución exacta dada por :\n",
    "\\begin{equation}\n",
    " \\begin{array}{c} \n",
    "     y(t) = 1-\\frac{\\pi}{20} \\tan(\\frac{\\pi}{4}t) \\\\\n",
    "     y(1) = 1-\\frac{\\pi}{20}\n",
    " \\end{array} \n",
    "\\end{equation}\n",
    "\n",
    "\n",
    "Así, definimos f como"
   ]
  },
  {
   "cell_type": "code",
   "execution_count": 2,
   "metadata": {},
   "outputs": [],
   "source": [
    "f = lambda t, y : np.array([y[1], 10*y[1]*(1-y[0])])\n",
    "exact = lambda t : 1-pi/20*tan(pi/4*t)"
   ]
  },
  {
   "cell_type": "markdown",
   "metadata": {},
   "source": [
    "Para aplicar Shooting Method, tomamos una aproximación inicial de $y_2 = 1$\n",
    "\n",
    "$$\\overrightarrow{y_0}(t) = \\left(\\begin{array}{c} y_1(t) \\\\\n",
    "y_2(t)\\end{array} \\right) = \\left( \\begin{array}{c} 1\n",
    "\\\\ 0 \\end{array} \\right)$$\n",
    "\n",
    "y utilizaremos el método de Runge Kutta 4 con 1000 pasos para aproximar la función en $y(1)$"
   ]
  },
  {
   "cell_type": "code",
   "execution_count": 3,
   "metadata": {},
   "outputs": [
    {
     "data": {
      "text/plain": [
       "1.0"
      ]
     },
     "execution_count": 3,
     "metadata": {},
     "output_type": "execute_result"
    }
   ],
   "source": [
    "y0 = [1, 0]\n",
    "_, W = odesolver.solve(f, y0, (0,1), 1000,  method = 'rk4')\n",
    "ans = W[0][-1]\n",
    "ans"
   ]
  },
  {
   "cell_type": "markdown",
   "metadata": {},
   "source": [
    "Veamos que tan acertada fue nuestra elección"
   ]
  },
  {
   "cell_type": "code",
   "execution_count": 4,
   "metadata": {},
   "outputs": [
    {
     "data": {
      "text/plain": [
       "0.15707963267948966"
      ]
     },
     "execution_count": 4,
     "metadata": {},
     "output_type": "execute_result"
    }
   ],
   "source": [
    "abs(ans - (1 - pi/20))"
   ]
  },
  {
   "cell_type": "markdown",
   "metadata": {},
   "source": [
    "Parece ser que nuestra aproximación inicial sobreestimó la solución. Usaremos el método de Newton para seguir generando aproximaciones.\n",
    "\n",
    "Definimos una función \n",
    "$F : \\mathbb{R} \\rightarrow \\mathbb{R}$\n",
    "que toma una estimación inical de $y_2 = y'$ y regresa la distancia a la solución delimitada por el BVP"
   ]
  },
  {
   "cell_type": "code",
   "execution_count": 5,
   "metadata": {},
   "outputs": [],
   "source": [
    "I = (0,1)\n",
    "y0 = 1\n",
    "sol = 1 - pi/20\n",
    "F = lambda yp0 : odesolver.solve(f, [y0, yp0], I, 1000,  method = 'rk4')[1][0][-1] - sol"
   ]
  },
  {
   "cell_type": "code",
   "execution_count": 6,
   "metadata": {
    "scrolled": false
   },
   "outputs": [
    {
     "data": {
      "text/plain": [
       "0.15707963267948966"
      ]
     },
     "execution_count": 6,
     "metadata": {},
     "output_type": "execute_result"
    }
   ],
   "source": [
    "F(0)"
   ]
  },
  {
   "cell_type": "markdown",
   "metadata": {},
   "source": [
    "En _odesolver_, definimos la función \"shooting\" que toma una función, un valor inicial de $y_1$, una aproximación inicial de $y_2$ y la la solución del BVP y crea la función F, para después aplicar el método de Newton hasta encontrar una raíz, o bien, encontrar el valor inicial de $y_2$ que hace que se satisfaga el BVP."
   ]
  },
  {
   "cell_type": "code",
   "execution_count": 7,
   "metadata": {
    "scrolled": true
   },
   "outputs": [
    {
     "name": "stdout",
     "output_type": "stream",
     "text": [
      "After 1 itrerations, the suggested slope is -0.1571058117415369, which generates an error of 0.06011796937074976\n",
      "After 2 itrerations, the suggested slope is -0.1136129484483078, which generates an error of 0.015605062058363206\n",
      "After 3 itrerations, the suggested slope is -0.12257599202933653, which generates an error of 0.0012971130776441298\n",
      "After 4 itrerations, the suggested slope is -0.1233885530092585, which generates an error of 3.0275526610390457e-05\n",
      "After 5 itrerations, the suggested slope is -0.1233700198445987, which generates an error of 5.7558321331363516e-08\n",
      "After 6 itrerations, the suggested slope is -0.12337005501206845, which generates an error of 2.5480728638171968e-12\n",
      "Solution found after 6 iterations\n"
     ]
    }
   ],
   "source": [
    "aprox, errors = odesolver.shooting(f, 1, 0, exact(1), (0,1), tol = 1e-10, maxiter=30, log = True)"
   ]
  },
  {
   "cell_type": "code",
   "execution_count": 8,
   "metadata": {},
   "outputs": [
    {
     "data": {
      "text/plain": [
       "-0.12337005501206845"
      ]
     },
     "execution_count": 8,
     "metadata": {},
     "output_type": "execute_result"
    }
   ],
   "source": [
    "aprox[-1]"
   ]
  },
  {
   "cell_type": "code",
   "execution_count": 9,
   "metadata": {},
   "outputs": [
    {
     "data": {
      "text/plain": [
       "2.5480728638171968e-12"
      ]
     },
     "execution_count": 9,
     "metadata": {},
     "output_type": "execute_result"
    }
   ],
   "source": [
    "F(aprox[-1])"
   ]
  },
  {
   "cell_type": "markdown",
   "metadata": {
    "collapsed": true
   },
   "source": [
    "Observamos que con esta aproximación inicial se satisface el BVP con un error menor a 1e-10"
   ]
  },
  {
   "cell_type": "code",
   "execution_count": 10,
   "metadata": {},
   "outputs": [
    {
     "data": {
      "text/plain": [
       "[-0.1571058117415369,\n",
       " -0.1136129484483078,\n",
       " -0.12257599202933653,\n",
       " -0.1233885530092585,\n",
       " -0.1233700198445987,\n",
       " -0.12337005501206845]"
      ]
     },
     "execution_count": 10,
     "metadata": {},
     "output_type": "execute_result"
    }
   ],
   "source": [
    "#Aproximaciones de y' inicial generadas por el método de Newton:\n",
    "aprox"
   ]
  },
  {
   "cell_type": "code",
   "execution_count": 11,
   "metadata": {
    "scrolled": true
   },
   "outputs": [
    {
     "data": {
      "image/png": "[encoded data removed]",
      "text/plain": [
       "<matplotlib.figure.Figure at 0x23c4808f6d8>"
      ]
     },
     "metadata": {},
     "output_type": "display_data"
    }
   ],
   "source": [
    "plt.scatter(range(7), [0]+aprox)\n",
    "plt.title(\"Aproximaciones de y' inicial generadas por el método de Newton\")\n",
    "plt.xlabel('Iteracion')\n",
    "plt.ylabel('y\\'')\n",
    "plt.show()"
   ]
  },
  {
   "cell_type": "code",
   "execution_count": 12,
   "metadata": {},
   "outputs": [
    {
     "data": {
      "text/plain": [
       "[0.06011796937074976,\n",
       " 0.015605062058363206,\n",
       " 0.0012971130776441298,\n",
       " 3.0275526610390457e-05,\n",
       " 5.7558321331363516e-08,\n",
       " 2.5480728638171968e-12]"
      ]
     },
     "execution_count": 12,
     "metadata": {},
     "output_type": "execute_result"
    }
   ],
   "source": [
    "#Error generado por cada aproximación, usando RK4 con 1000 pasos:\n",
    "errors"
   ]
  },
  {
   "cell_type": "code",
   "execution_count": 13,
   "metadata": {},
   "outputs": [
    {
     "data": {
      "image/png": "[encoded data removed]",
      "text/plain": [
       "<matplotlib.figure.Figure at 0x23c4808f4e0>"
      ]
     },
     "metadata": {},
     "output_type": "display_data"
    }
   ],
   "source": [
    "plt.scatter(range(7), [F(0)]+errors)\n",
    "plt.title(\"Error generado por cada aproximación, usando RK4 con 1000 pasos\")\n",
    "plt.xlabel('Iteracion')\n",
    "plt.ylabel('Error')\n",
    "plt.show()"
   ]
  }
 ],
 "metadata": {
  "anaconda-cloud": {},
  "kernelspec": {
   "display_name": "Python 3",
   "language": "python",
   "name": "python3"
  },
  "language_info": {
   "codemirror_mode": {
    "name": "ipython",
    "version": 3
   },
   "file_extension": ".py",
   "mimetype": "text/x-python",
   "name": "python",
   "nbconvert_exporter": "python",
   "pygments_lexer": "ipython3",
   "version": "3.6.4"
  }
 },
 "nbformat": 4,
 "nbformat_minor": 2
}
