{
 "cells": [
  {
   "cell_type": "code",
   "execution_count": 1,
   "metadata": {},
   "outputs": [],
   "source": [
    "import sys\n",
    "sys.path.append('../')\n",
    "import latexStrings as ls\n",
    "import numpy as np\n",
    "import matplotlib.pyplot as plt\n",
    "from math import *\n",
    "from IPython.display import Latex\n",
    "import odesolver"
   ]
  },
  {
   "cell_type": "markdown",
   "metadata": {},
   "source": [
    "# Ejercicio 5"
   ]
  },
  {
   "cell_type": "markdown",
   "metadata": {},
   "source": [
    "Consideremos el PVI (\\ref{eq:1}), cuya solucion (\\ref{eq:2}) ha sido justificada previamente. Utilizemos los métodos:\n",
    "\\begin{itemize}\n",
    "    \\item Euler Explícito\n",
    "    \\item Trapecio Explícito\n",
    "    \\item Punto Medio Explícito \n",
    "    \\item RK4 \n",
    "\\end{itemize}\n",
    "Con pasos $h\\in\\{1/50,1/100,1/200\\}$ para calcular y comparar el error global en t=1"
   ]
  },
  {
   "cell_type": "code",
   "execution_count": 2,
   "metadata": {},
   "outputs": [],
   "source": [
    "EG=[[0,0,0],[0,0,0],[0,0,0],[0,0,0]]\n",
    "f = lambda t, y : y+2*np.exp(-t)\n",
    "exact = lambda t, t0, y0 : np.exp(t)*(y0*np.exp(-t0)+np.exp(-2*t0)-np.exp(-2*t))\n",
    "I = (0, 1)\n",
    "y0 = 1\n",
    "y1 = exact(1,0,1)\n",
    "TEE, WEE = odesolver.solve(f,y0,I,50,method=\"Explicit Euler\")\n",
    "EG[0][0] = abs(WEE[0,50]-y1)\n",
    "TEE1, WEE1 = odesolver.solve(f,y0,I,100,method=\"Explicit Euler\")\n",
    "EG[0][1] = abs(WEE1[0,100]-y1)\n",
    "TEE2, WEE2 = odesolver.solve(f,y0,I,200,method=\"Explicit Euler\")\n",
    "EG[0][2] = abs(WEE2[0,200]-y1)"
   ]
  },
  {
   "cell_type": "code",
   "execution_count": 3,
   "metadata": {},
   "outputs": [],
   "source": [
    "TTE, WTE = odesolver.solve(f,y0,I,50,method=\"Explicit Trapezoid\")\n",
    "EG[1][0]= abs(WTE[0,50]-y1)\n",
    "TTE1, WTE1 = odesolver.solve(f,y0,I,100,method=\"Explicit Trapezoid\")\n",
    "EG[1][1] = abs(WTE1[0,100]-y1)\n",
    "TTE2, WTE2 = odesolver.solve(f,y0,I,200,method=\"Explicit Trapezoid\")\n",
    "EG[1][2] = abs(WTE2[0,200]-y1)"
   ]
  },
  {
   "cell_type": "code",
   "execution_count": 4,
   "metadata": {},
   "outputs": [],
   "source": [
    "TPE, WPE = odesolver.solve(f,y0,I,50,method=\"Explicit Midpoint\")\n",
    "EG[2][0]= abs(WPE[0,50]-y1)\n",
    "TPE1, WPE1 = odesolver.solve(f,y0,I,100,method=\"Explicit Midpoint\")\n",
    "EG[2][1] = abs(WPE1[0,100]-y1)\n",
    "TPE2, WPE2 = odesolver.solve(f,y0,I,200,method=\"Explicit Midpoint\")\n",
    "EG[2][2] = abs(WPE2[0,200]-y1)"
   ]
  },
  {
   "cell_type": "code",
   "execution_count": 5,
   "metadata": {},
   "outputs": [],
   "source": [
    "TRK, WRK = odesolver.solve(f,y0,I,50,method=\"RK4\")\n",
    "EG[3][0]= abs(WRK[0,50]-y1)\n",
    "TRK1, WRK1 = odesolver.solve(f,y0,I,100,method=\"RK4\")\n",
    "EG[3][1] = abs(WRK1[0,100]-y1)\n",
    "TRK2, WRK2 = odesolver.solve(f,y0,I,200,method=\"RK4\")\n",
    "EG[3][2]= abs(WRK2[0,200]-y1)"
   ]
  },
  {
   "cell_type": "code",
   "execution_count": 6,
   "metadata": {
    "scrolled": true
   },
   "outputs": [
    {
     "data": {
      "text/latex": [
       "\\[ \n",
       " E_{ExpEul} = \n",
       "\\{ \n",
       "0.04178851634198466, 0.021098542854763203, 0.01060108612541466\\}\n",
       " \\]"
      ],
      "text/plain": [
       "<IPython.core.display.Latex object>"
      ]
     },
     "execution_count": 6,
     "metadata": {},
     "output_type": "execute_result"
    }
   ],
   "source": [
    "Latex(ls.latexList(EG[0], 'E_{ExpEul}', form = '%s'))"
   ]
  },
  {
   "cell_type": "code",
   "execution_count": 7,
   "metadata": {},
   "outputs": [
    {
     "data": {
      "text/latex": [
       "\\[ \n",
       " E_{ExpTra} = \n",
       "\\{ \n",
       "0.00020152521281335822, 5.09060053159871e-05, 1.2792587365417774e-05\\}\n",
       " \\]"
      ],
      "text/plain": [
       "<IPython.core.display.Latex object>"
      ]
     },
     "execution_count": 7,
     "metadata": {},
     "output_type": "execute_result"
    }
   ],
   "source": [
    "Latex(ls.latexList(EG[1], 'E_{ExpTra}', form = '%s'))"
   ]
  },
  {
   "cell_type": "code",
   "execution_count": 8,
   "metadata": {},
   "outputs": [
    {
     "data": {
      "text/latex": [
       "\\[ \n",
       " E_{ExpMP} = \n",
       "\\{ \n",
       "0.0003178642613095306, 8.013876027668232e-05, 2.0119208638647024e-05\\}\n",
       " \\]"
      ],
      "text/plain": [
       "<IPython.core.display.Latex object>"
      ]
     },
     "execution_count": 8,
     "metadata": {},
     "output_type": "execute_result"
    }
   ],
   "source": [
    "Latex(ls.latexList(EG[2], 'E_{ExpMP}', form = '%s'))"
   ]
  },
  {
   "cell_type": "code",
   "execution_count": 9,
   "metadata": {},
   "outputs": [
    {
     "data": {
      "text/latex": [
       "\\[ \n",
       " E_{RK4} = \n",
       "\\{ \n",
       "4.13889189587735e-09, 2.6199131752946414e-10, 1.6481038755955524e-11\\}\n",
       " \\]"
      ],
      "text/plain": [
       "<IPython.core.display.Latex object>"
      ]
     },
     "execution_count": 9,
     "metadata": {},
     "output_type": "execute_result"
    }
   ],
   "source": [
    "Latex(ls.latexList(EG[3], 'E_{RK4}', form = '%s'))"
   ]
  },
  {
   "cell_type": "code",
   "execution_count": 14,
   "metadata": {
    "scrolled": true
   },
   "outputs": [
    {
     "data": {
      "text/latex": [
       "\\begin{tabular}{{c|r r r r}} \n",
       " \\hline \n",
       "Paso & Euler Explicito & Trapecio Explicito & Punto Medio Implicito & Runge-Kutta 4 \\\\ \\hline \n",
       "0.02 & 0.04178851634198466 & 0.00020152521281335822 & 0.0003178642613095306 & 4.13889189587735e-09 \\\\ \n",
       "0.01 & 0.021098542854763203 & 5.09060053159871e-05 & 8.013876027668232e-05 & 2.6199131752946414e-10 \\\\ \n",
       "0.005 & 0.01060108612541466 & 1.2792587365417774e-05 & 2.0119208638647024e-05 & 1.6481038755955524e-11 \\\\ \n",
       "\\hline \n",
       " \\end{tabular}"
      ],
      "text/plain": [
       "<IPython.core.display.Latex object>"
      ]
     },
     "execution_count": 14,
     "metadata": {},
     "output_type": "execute_result"
    }
   ],
   "source": [
    "steps = [1/50,1/100,1/200]\n",
    "header = ['Paso', 'Euler Explicito', 'Trapecio Explicito', 'Punto Medio Implicito', 'Runge-Kutta 4']\n",
    "data = np.array([steps, EG[0], EG[1], EG[2], EG[3]]).T\n",
    "Latex(ls.latexTable(header, data, '{c|r r r r}'))"
   ]
  },
  {
   "cell_type": "code",
   "execution_count": 10,
   "metadata": {
    "scrolled": true
   },
   "outputs": [
    {
     "data": {
      "image/png": "[encoded data removed]",
      "text/plain": [
       "<matplotlib.figure.Figure at 0x122aa5f8fd0>"
      ]
     },
     "metadata": {},
     "output_type": "display_data"
    }
   ],
   "source": [
    "plt.plot(steps, EG[0], marker = 'x', label = 'Euler Explicito')\n",
    "plt.plot(steps, EG[1], marker = 'x', label = 'Trapecio Explicito')\n",
    "plt.plot(steps, EG[2], marker = 'x', label = 'Punto Medio Explicito')\n",
    "plt.plot(steps, EG[3], marker = 'x', label = 'Runge-Kutta 4')\n",
    "plt.xscale('log')\n",
    "plt.xlabel('Paso (log)')\n",
    "plt.yscale('log')\n",
    "plt.ylabel('Error Global (log)')\n",
    "plt.axis([1e-3,1e-1,1e-12,1])\n",
    "plt.legend()\n",
    "plt.show()"
   ]
  },
  {
   "cell_type": "markdown",
   "metadata": {},
   "source": [
    "En la tabla podemos notar los Errores Globales en t=1 de cada método coinciden con los órdenes que vimos teóricamente ($O(h)$ para Euler, $O(h^2)$ para Trapecio y Punto Medio y $O(h^4)$ para RK4). También podemos notar que a pesar de tener el mismo orden, el método del trapecio fué más preciso que el método del punto medio para esta ODE. \n",
    "\n",
    "La gráfica de nuevo confirma esto, pues vemos que la pendiente aproxiamda de las rectas de los errores coinside con sus errores teoricos."
   ]
  }
 ],
 "metadata": {
  "kernelspec": {
   "display_name": "Python 3",
   "language": "python",
   "name": "python3"
  },
  "language_info": {
   "codemirror_mode": {
    "name": "ipython",
    "version": 3
   },
   "file_extension": ".py",
   "mimetype": "text/x-python",
   "name": "python",
   "nbconvert_exporter": "python",
   "pygments_lexer": "ipython3",
   "version": "3.6.4"
  }
 },
 "nbformat": 4,
 "nbformat_minor": 2
}
