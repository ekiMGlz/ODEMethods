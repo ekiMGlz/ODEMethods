{
 "cells": [
  {
   "cell_type": "code",
   "execution_count": 1,
   "metadata": {},
   "outputs": [],
   "source": [
    "import sys\n",
    "sys.path.append('../')\n",
    "import latexStrings as ls\n",
    "import numpy as np\n",
    "import matplotlib.pyplot as plt\n",
    "from math import *\n",
    "from IPython.display import Latex\n",
    "import odesolver"
   ]
  },
  {
   "cell_type": "markdown",
   "metadata": {},
   "source": [
    "# Ejercicio 5"
   ]
  },
  {
   "cell_type": "markdown",
   "metadata": {},
   "source": [
    "Tenemos el PVI del ejercicio 1:\n",
    "\n",
    "\\begin{equation} \\label{eq:1}\n",
    "y'= y + 2e^{-t} \\qquad y(0) = 1 \n",
    "\\end{equation}\n",
    "\n",
    "Dado que el lado derecho de la EDO, $y + 2e^{-t}$ es de clase $C^1$ para todo $(t,y)\\in \\mathbb{R}\\times\\mathbb{R}$, y por lo tanto Lipschitz Continua en dicha region, sabemos que existe una solucion unica a este problema, que en general es dada por:\n",
    "\n",
    "\n",
    "\n",
    " \n"
   ]
  },
  {
   "cell_type": "code",
   "execution_count": 2,
   "metadata": {},
   "outputs": [
    {
     "data": {
      "text/latex": [
       "$y(t) = (y_0e^{-t_0} + e^{-2t_0}-e^{-2t})e^t$"
      ],
      "text/plain": [
       "<IPython.core.display.Latex object>"
      ]
     },
     "execution_count": 2,
     "metadata": {},
     "output_type": "execute_result"
    }
   ],
   "source": [
    "Latex('$y(t) = (y_0e^{-t_0} + e^{-2t_0}-e^{-2t})e^t$')"
   ]
  },
  {
   "cell_type": "code",
   "execution_count": 3,
   "metadata": {},
   "outputs": [
    {
     "data": {
      "text/latex": [
       "$$\\Rightarrow y(1)=(1e^{-0}+e^{-2(0)}-e^{-2(1)})e^1=5.068684215746647$$"
      ],
      "text/plain": [
       "<IPython.core.display.Latex object>"
      ]
     },
     "execution_count": 3,
     "metadata": {},
     "output_type": "execute_result"
    }
   ],
   "source": [
    "Latex('$$\\Rightarrow y(1)=(1e^{-0}+e^{-2(0)}-e^{-2(1)})e^1=5.068684215746647$$')"
   ]
  },
  {
   "cell_type": "markdown",
   "metadata": {},
   "source": [
    "Ahora utilizemos los métodos:\n",
    "    Euler (explícito),\n",
    "    Trapecio (explícito), Punto Medio (explícito) \n",
    "    y RK4 con h ∈ {1/50,1/100,1/200} para calcular el error global en t=1"
   ]
  },
  {
   "cell_type": "code",
   "execution_count": 4,
   "metadata": {},
   "outputs": [],
   "source": [
    "EG=[[0,0,0],[0,0,0],[0,0,0],[0,0,0]]\n",
    "f = lambda t, y : y+2*np.exp(-t)\n",
    "exact = lambda t, t0, y0 : np.exp(t)*(y0*np.exp(-t0)+np.exp(-2*t0)-np.exp(-2*t))\n",
    "I = (0, 1)\n",
    "y0 = 1\n",
    "y1 = exact(1,0,1)\n",
    "TEE, WEE = odesolver.solve(f,y0,I,50,method=\"Explicit Euler\")\n",
    "EG[0][0] = abs(WEE[0,50]-y1)\n",
    "TEE1, WEE1 = odesolver.solve(f,y0,I,100,method=\"Explicit Euler\")\n",
    "EG[0][1] = abs(WEE1[0,100]-y1)\n",
    "TEE2, WEE2 = odesolver.solve(f,y0,I,200,method=\"Explicit Euler\")\n",
    "EG[0][2] = abs(WEE2[0,200]-y1)\n"
   ]
  },
  {
   "cell_type": "code",
   "execution_count": 5,
   "metadata": {},
   "outputs": [],
   "source": [
    "TTE, WTE = odesolver.solve(f,y0,I,50,method=\"Explicit Trapezoid\")\n",
    "EG[1][0]= abs(WTE[0,50]-y1)\n",
    "TTE1, WTE1 = odesolver.solve(f,y0,I,100,method=\"Explicit Trapezoid\")\n",
    "EG[1][1] = abs(WTE1[0,100]-y1)\n",
    "TTE2, WTE2 = odesolver.solve(f,y0,I,200,method=\"Explicit Trapezoid\")\n",
    "EG[1][2] = abs(WTE2[0,200]-y1)\n"
   ]
  },
  {
   "cell_type": "code",
   "execution_count": 6,
   "metadata": {},
   "outputs": [],
   "source": [
    "TPE, WPE = odesolver.solve(f,y0,I,50,method=\"Explicit Midpoint\")\n",
    "EG[2][0]= abs(WPE[0,50]-y1)\n",
    "TPE1, WPE1 = odesolver.solve(f,y0,I,100,method=\"Explicit Midpoint\")\n",
    "EG[2][1] = abs(WPE1[0,100]-y1)\n",
    "TPE2, WPE2 = odesolver.solve(f,y0,I,200,method=\"Explicit Midpoint\")\n",
    "EG[2][2] = abs(WPE2[0,200]-y1)\n"
   ]
  },
  {
   "cell_type": "code",
   "execution_count": 7,
   "metadata": {},
   "outputs": [],
   "source": [
    "TRK, WRK = odesolver.solve(f,y0,I,50,method=\"RK4\")\n",
    "EG[3][0]= abs(WRK[0,50]-y1)\n",
    "TRK1, WRK1 = odesolver.solve(f,y0,I,100,method=\"RK4\")\n",
    "EG[3][1] = abs(WRK1[0,100]-y1)\n",
    "TRK2, WRK2 = odesolver.solve(f,y0,I,200,method=\"RK4\")\n",
    "EG[3][2]= abs(WRK2[0,200]-y1)\n"
   ]
  },
  {
   "cell_type": "code",
   "execution_count": 8,
   "metadata": {
    "scrolled": true
   },
   "outputs": [
    {
     "data": {
      "text/plain": [
       "[[0.04178851634198466, 0.021098542854763203, 0.01060108612541466],\n",
       " [0.00020152521281335822, 5.09060053159871e-05, 1.2792587365417774e-05],\n",
       " [0.0003178642613095306, 8.013876027668232e-05, 2.0119208638647024e-05],\n",
       " [4.13889189587735e-09, 2.6199131752946414e-10, 1.6481038755955524e-11]]"
      ]
     },
     "execution_count": 8,
     "metadata": {},
     "output_type": "execute_result"
    }
   ],
   "source": [
    "EG"
   ]
  },
  {
   "cell_type": "markdown",
   "metadata": {},
   "source": [
    "En la siguiente tabla podemos observar el error global en cada uno de los casos y comparalo con el orden de los métodos:"
   ]
  },
  {
   "cell_type": "markdown",
   "metadata": {},
   "source": [
    "$\n",
    "\\begin{table}[htb]\n",
    "\\centering\n",
    "\\begin{tabular}{|l|l|l|l|l|}\n",
    "\\hline\n",
    "\\cline{2-5}\n",
    "& h & $\\frac{1}{50}$ & $\\frac{1}{100}$ &  $\\frac{1}{200}$\\\\\n",
    "\\hline \n",
    "\\multirow{2}{4cm}{Euler Explícito } & Error Global  & 0.04178851634198466 & 0.021098542854763203 & 0.01060108612541466\\\\ \\cline{2-5}\n",
    "& Orden 1 & O(0.02) & O(0.01)  & O(0.005) \\\\ \\cline{1-5}\n",
    "\\multirow{2}{4cm}{Trapecio Explícito} & Error Global  & 2.0152521281335822e-04 &  5.09060053159871e-05 & 1.2792587365417774e-05 \\\\ \\cline{2-5}\n",
    "& Orden 2 & O(4e-04) & O(e-04) & O(2.5e-05)\\\\ \\cline{1-5}\n",
    "\\multirow{2}{4cm}{Punto Medio Explícito} & Error Global  & 3.178642613095306e-04 & 8.013876027668232e-05 & 2.0119208638647024e-05\\\\ \\cline{2-5}\n",
    "& Orden 2 &  O(4e-04) & O(e-04) & O(2.5e-05)\\\\ \\cline{1-5}\n",
    "\\multirow{2}{4cm}{RK4 } & Error Global  & 4.13889189587735e-09 & 2.6199131752946414e-10 & 1.6481038755955524e-11\\\\ \\cline{2-5}\n",
    "& Orden 4 & O(1.6e-07) & O(e-08) & O(6.25e-10)\\\\ \\cline{1-5}\n",
    "\\end{tabular}\n",
    "\\caption{Error Global}\n",
    "\\label{tabla:final}\n",
    "\\end{table}\n",
    "$"
   ]
  }
 ],
 "metadata": {
  "kernelspec": {
   "display_name": "Python 3",
   "language": "python",
   "name": "python3"
  },
  "language_info": {
   "codemirror_mode": {
    "name": "ipython",
    "version": 3
   },
   "file_extension": ".py",
   "mimetype": "text/x-python",
   "name": "python",
   "nbconvert_exporter": "python",
   "pygments_lexer": "ipython3",
   "version": "3.6.4"
  }
 },
 "nbformat": 4,
 "nbformat_minor": 2
}
