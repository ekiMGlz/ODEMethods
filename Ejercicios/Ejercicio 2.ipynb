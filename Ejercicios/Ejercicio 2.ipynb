{
 "cells": [
  {
   "cell_type": "code",
   "execution_count": 1,
   "metadata": {},
   "outputs": [],
   "source": [
    "import sys\n",
    "sys.path.append('../')\n",
    "import latexStrings as ls\n",
    "import numpy as np\n",
    "import matplotlib.pyplot as plt\n",
    "from math import *\n",
    "from IPython.display import Latex\n",
    "import odesolver"
   ]
  },
  {
   "cell_type": "markdown",
   "metadata": {},
   "source": [
    "# Ejercicio 2"
   ]
  },
  {
   "cell_type": "markdown",
   "metadata": {},
   "source": [
    "Tomando el PVI \\ref{eq:1} y la solución general de la ecuación \\ref{eq:2} del ejercicio anterior aplicaremos el método del Trapecio explícito con paso $h_1=0.1$. En el ejercicio 1 se argumentó la existencia y unicidad del PVI. \n",
    "\n",
    "Calculemos el error global en el punto t = 1: $$E_{Trapecio}(h_1)=\\left|w_{10}-y(1) \\right|$$ \n",
    "con $w_{10}$ la aproximación del método en t=1. "
   ]
  },
  {
   "cell_type": "code",
   "execution_count": 2,
   "metadata": {},
   "outputs": [
    {
     "data": {
      "text/latex": [
       "$E_{Trapecio}(h_1)= 0.0046374955401011775$"
      ],
      "text/plain": [
       "<IPython.core.display.Latex object>"
      ]
     },
     "execution_count": 2,
     "metadata": {},
     "output_type": "execute_result"
    }
   ],
   "source": [
    "f = lambda t, y : y+2*np.exp(-t)\n",
    "exact = lambda t, t0, y0 : np.exp(t)*(y0*np.exp(-t0)+np.exp(-2*t0)-np.exp(-2*t))\n",
    "I = (0, 1)\n",
    "y0 = 1\n",
    "\n",
    "y1 = exact(1,0,1)\n",
    "\n",
    "T, W = odesolver.solve(f,y0,I,10,method=\"Explicit Trapezoid\")\n",
    "\n",
    "globalError = abs(W[0,10]-y1)\n",
    "\n",
    "Latex(\"$E_{Trapecio}(h_1)= \"+str(globalError) +'$' )"
   ]
  },
  {
   "cell_type": "markdown",
   "metadata": {},
   "source": [
    "Veamos lo que sucede cuando usamos el paso $h_2:=\\frac{h_1}{2}=0.05$ y calculemos el correspondiende error global en t=1: $$E_{Trapecio}(h_2)=\\left|w_{20}-y(1) \\right|$$ "
   ]
  },
  {
   "cell_type": "code",
   "execution_count": 3,
   "metadata": {},
   "outputs": [
    {
     "data": {
      "text/latex": [
       "$E_{Trapecio}(h_2)= 0.0012209778161409446$"
      ],
      "text/plain": [
       "<IPython.core.display.Latex object>"
      ]
     },
     "execution_count": 3,
     "metadata": {},
     "output_type": "execute_result"
    }
   ],
   "source": [
    "T, W = odesolver.solve(f,y0,I,20,method=\"Explicit Trapezoid\")\n",
    "\n",
    "globalError = abs(W[0,20]-y1)\n",
    "\n",
    "Latex(\"$E_{Trapecio}(h_2)= \"+str(globalError) +'$')"
   ]
  },
  {
   "cell_type": "markdown",
   "metadata": {},
   "source": [
    "Ahora calcuemos el error global en t=1 usando el método Runge-Kutta 4 usando $h_1=0.1$ :\n",
    "$$E_{RK4}(h_1)=\\left|w_{10}-y(1) \\right|$$ \n"
   ]
  },
  {
   "cell_type": "code",
   "execution_count": 4,
   "metadata": {},
   "outputs": [
    {
     "data": {
      "text/latex": [
       "$E_{RK4}(h_1)= 2.334812125859287e-06$"
      ],
      "text/plain": [
       "<IPython.core.display.Latex object>"
      ]
     },
     "execution_count": 4,
     "metadata": {},
     "output_type": "execute_result"
    }
   ],
   "source": [
    "T, W = odesolver.solve(f,y0,I,10,method=\"RK4\")\n",
    "\n",
    "globalError = abs(W[0,10]-y1)\n",
    "\n",
    "Latex(\"$E_{RK4}(h_1)= \"+str(globalError) +'$')"
   ]
  },
  {
   "cell_type": "markdown",
   "metadata": {},
   "source": [
    "\\begin{table}[h]\n",
    "\\centering\n",
    "\\begin{tabular}{|l|lll|}\n",
    "\\hline\n",
    "                                   & E$_{Trapecio}(h_1)$   & E$_{Trapecio}(h_2)$   & E$_{RK4}(h_1)$                       \\\\ \\hline\n",
    "Error (global en t = 1)            & 4.63749554010 $\\times$ 10$^{-3}$& 1.22097781614 $\\times$ 10$^{-3}$& 2.3348121258 $\\times$ 10$^{-6}$ \\\\\n",
    "n\\'umero de estados & 20                    & 40                    & 40                                  \\\\ \\hline\n",
    "\\end{tabular}\n",
    "\\end{table}"
   ]
  },
  {
   "cell_type": "markdown",
   "metadata": {},
   "source": [
    "En la tabla anterior notamos lo siguiente: $$E_{RK4}(h_1)<E_{Trapecio}(h_2)<E_{Trapecio}(h_1)$$"
   ]
  },
  {
   "cell_type": "markdown",
   "metadata": {},
   "source": [
    "Podemos observar que mediante el método del Trapecio explícito con paso $h_2$ obtenemos un error aproximadamente 4 veces menor que con paso $h_1$ ya que: $$E_{Trapecio}(h_1)=O(h_1^2)$$ $$   \\Rightarrow E_{Trapecio}(h_2)=O(h_2^2)=O\\left(\\frac{h_1}{2}\\right)^2$$ $$ \\Rightarrow E_{Trapecio}(h_2) \\approx \\frac{1}{4}O(h_1^2)=\\frac{1}{4}E_{Trapecio}(h_1) $$\n",
    "El problema es que el método con $h_2$ necesita de 40 estados, el doble con respecto a usar $h_1$. "
   ]
  },
  {
   "cell_type": "markdown",
   "metadata": {},
   "source": [
    "Por otro lado, el método Runge-Kutta 4 necesita de 40 estados al igual que el Trapecio explícito con $h_2$ pero observando los resultados de la tabla notamos que el error global $E_{RK4}$ es  menor a $E_{Trapecio}(h_2)$ por un factor de $10^3$ aproximadamente."
   ]
  },
  {
   "cell_type": "markdown",
   "metadata": {},
   "source": [
    "Por lo tanto, para reducir el error, es preferible usar el método Runge-Kutta 4 ya que, por los mismos 40 estados requeridos, se obtiene un error menor al del Trapecio explícito con $h_2$."
   ]
  }
 ],
 "metadata": {
  "kernelspec": {
   "display_name": "Python 3",
   "language": "python",
   "name": "python3"
  },
  "language_info": {
   "codemirror_mode": {
    "name": "ipython",
    "version": 3
   },
   "file_extension": ".py",
   "mimetype": "text/x-python",
   "name": "python",
   "nbconvert_exporter": "python",
   "pygments_lexer": "ipython3",
   "version": "3.6.4"
  }
 },
 "nbformat": 4,
 "nbformat_minor": 2
}
