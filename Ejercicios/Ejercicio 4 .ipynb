{
 "cells": [
  {
   "cell_type": "code",
   "execution_count": 1,
   "metadata": {},
   "outputs": [],
   "source": [
    "import sys\n",
    "sys.path.append('../')\n",
    "import latexStrings as ls\n",
    "import numpy as np\n",
    "import matplotlib.pyplot as plt\n",
    "from math import *\n",
    "from IPython.display import Latex\n",
    "import odesolver"
   ]
  },
  {
   "cell_type": "markdown",
   "metadata": {},
   "source": [
    "# Ejercicio 4 "
   ]
  },
  {
   "cell_type": "markdown",
   "metadata": {},
   "source": [
    "Dado el PVI:\n",
    "\n",
    "\\begin{equation} \\label{eq:1}\n",
    "y'= 5y  -3y^2 \\qquad y(0) = 1/2 \\qquad t\\in [0,20] \n",
    "\\end{equation}\n",
    "\n",
    "buscamos las soluciones de equilibrio y* (raíces de nuestra función f):\n"
   ]
  },
  {
   "cell_type": "code",
   "execution_count": 2,
   "metadata": {},
   "outputs": [
    {
     "data": {
      "text/latex": [
       "$y'=5y  -3y^2=0 \\Rightarrow (5-3y)y=0 \\Rightarrow y_1^*=0,y_2^*=5/3$"
      ],
      "text/plain": [
       "<IPython.core.display.Latex object>"
      ]
     },
     "execution_count": 2,
     "metadata": {},
     "output_type": "execute_result"
    }
   ],
   "source": [
    "Latex('$y\\'=5y  -3y^2=0 \\Rightarrow (5-3y)y=0 \\Rightarrow y_1^*=0,y_2^*=5/3$')"
   ]
  },
  {
   "cell_type": "markdown",
   "metadata": {},
   "source": [
    "Aplicando el metodo de Euler implicito con paso $h=0.5$ a nuestra función"
   ]
  },
  {
   "cell_type": "code",
   "execution_count": 3,
   "metadata": {},
   "outputs": [
    {
     "data": {
      "text/latex": [
       "obtenemos una aproximación para y(20): $w_{40}$ = 1.6666666666666667"
      ],
      "text/plain": [
       "<IPython.core.display.Latex object>"
      ]
     },
     "execution_count": 3,
     "metadata": {},
     "output_type": "execute_result"
    }
   ],
   "source": [
    "f = lambda t, y : 5*y-3*y*y\n",
    "I = (0, 20)\n",
    "y0 = 0.5\n",
    "\n",
    "\n",
    "T, W = odesolver.solve(f,y0,I,40,method=\"Implicit Euler\")\n",
    "Latex('obtenemos una aproximación para y(20): ' + '$w_{40}$ = ' + str(W[0,40]))"
   ]
  },
  {
   "cell_type": "code",
   "execution_count": 4,
   "metadata": {},
   "outputs": [
    {
     "data": {
      "text/latex": [
       "Con lo que podemos observar que el método de Euler implícito con $h=1/2$ converge hacia $y_2^*=5/3$"
      ],
      "text/plain": [
       "<IPython.core.display.Latex object>"
      ]
     },
     "execution_count": 4,
     "metadata": {},
     "output_type": "execute_result"
    }
   ],
   "source": [
    "Latex('Con lo que podemos observar que el método de Euler implícito con $h=1/2$ converge hacia $y_2^*=5/3$')"
   ]
  },
  {
   "cell_type": "code",
   "execution_count": 5,
   "metadata": {},
   "outputs": [
    {
     "data": {
      "text/latex": [
       "Para el método de Euler explícito tenemos que $F(w;h)=w_{i+1}=w_i+h[5w_i-3w_i^2]$"
      ],
      "text/plain": [
       "<IPython.core.display.Latex object>"
      ]
     },
     "execution_count": 5,
     "metadata": {},
     "output_type": "execute_result"
    }
   ],
   "source": [
    "Latex('Para el método de Euler explícito tenemos que $F(w;h)=w_{i+1}=w_i+h[5w_i-3w_i^2]$')"
   ]
  },
  {
   "cell_type": "markdown",
   "metadata": {},
   "source": [
    "Aaplicando Euler explícito con pasos constantes h ∈ {1/6,1/5,1/4,1/2}"
   ]
  },
  {
   "cell_type": "code",
   "execution_count": 6,
   "metadata": {},
   "outputs": [
    {
     "data": {
      "text/latex": [
       "Obtenemos aproximaciónes para y(20) de:   $\\quad w_{120}$=1.6666666666666667$,\\quad w_{100}$=1.6666666666666667$,\\quad w_{80}$=1.6666666666666665$,\\quad w_{40}$=2.04166028173897$\\quad$ respectivamente. "
      ],
      "text/plain": [
       "<IPython.core.display.Latex object>"
      ]
     },
     "execution_count": 6,
     "metadata": {},
     "output_type": "execute_result"
    }
   ],
   "source": [
    "T2, W2 = odesolver.solve(f,y0,I,120,method=\"Explicit euler\")\n",
    "T3, W3 = odesolver.solve(f,y0,I,100,method=\"Explicit Euler\")\n",
    "T4, W4 = odesolver.solve(f,y0,I,80,method=\"Explicit Euler\")\n",
    "T5, W5 = odesolver.solve(f,y0,I,40,method=\"Explicit Euler\")\n",
    "\n",
    "Latex('Obtenemos aproximaciónes para y(20) de:   $\\quad w_{120}$='+ str(W2[0,120])+'$,\\quad w_{100}$='+ str(W3[0,100])+'$,\\quad w_{80}$='+ str(W4[0,80])+'$,\\quad w_{40}$='+ str(W5[0,40])+'$\\quad$ respectivamente. ')"
   ]
  },
  {
   "cell_type": "markdown",
   "metadata": {},
   "source": [
    "El método converge a $w_*=5/3$ con  h ∈ {1/6,1/5,1/4} pues \n",
    "$$|\\partial F(w;h)/\\partial w|_{w=w^*}|=|1+h[5-6w]|_{w=w^*}|=|1+h[5-6w]|_{w=5/3}|=|1+h[-5]|<1\\Leftrightarrow -1<1-5h<1\\Leftrightarrow -2<-5h<0\\Leftrightarrow 0<h<2/5$$ \n",
    "y $0<1/6<1/5<1/4<2/5$ lo que implica que $w_*=5/2$ es aractor para estos valores de h."
   ]
  },
  {
   "cell_type": "markdown",
   "metadata": {},
   "source": [
    "Pero \n",
    "$$|\\partial F(w;h)/\\partial w|_{w=w^*}|=|1+h[5-6w]|_{w=w^*}|=|1+h[5-6w]|_{w=5/3}|=|1+h[-5]|>1\\Leftrightarrow 1-5h<-1 \\quad ó \\quad 1-5h>1\\Leftrightarrow h<0 \\quad ó \\quad h>2/5$$ \n",
    "y $1/2>2/5$ lo que implica que $w_*=5/2$ es un repulsor para h=1/2"
   ]
  },
  {
   "cell_type": "markdown",
   "metadata": {},
   "source": [
    "Por lo tanto el método funciona bien para h<2/5"
   ]
  }
 ],
 "metadata": {
  "kernelspec": {
   "display_name": "Python 3",
   "language": "python",
   "name": "python3"
  },
  "language_info": {
   "codemirror_mode": {
    "name": "ipython",
    "version": 3
   },
   "file_extension": ".py",
   "mimetype": "text/x-python",
   "name": "python",
   "nbconvert_exporter": "python",
   "pygments_lexer": "ipython3",
   "version": "3.6.4"
  }
 },
 "nbformat": 4,
 "nbformat_minor": 2
}
