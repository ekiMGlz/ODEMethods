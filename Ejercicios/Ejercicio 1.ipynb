{
 "cells": [
  {
   "cell_type": "code",
   "execution_count": 7,
   "metadata": {},
   "outputs": [],
   "source": [
    "import sys\n",
    "sys.path.append('../')\n",
    "import latexStrings as ls\n",
    "import numpy as np\n",
    "import matplotlib.pyplot as plt\n",
    "from math import *\n",
    "import odesolver"
   ]
  },
  {
   "cell_type": "markdown",
   "metadata": {},
   "source": [
    "# Ejercicio 1"
   ]
  },
  {
   "cell_type": "markdown",
   "metadata": {},
   "source": [
    "Tenemos el PVI:\n",
    "\n",
    "\\begin{equation} \n",
    "y'= y + 2e^{-t} \\qquad y(0) = 1 \n",
    "\\end{equation}\n",
    "\n",
    "Dado que el lado derecho de la EDO, $y + 2e^{-t}$ es de clase $C^1$ para todo $(t,y)\\in \\mathbb{R}\\times\\mathbb{R}$, y por lo tanto Lipschitz Continua en dicha region, sabemos que existe una solucion unica a este problema, que en general es dada por:\n",
    "\n",
    "\\begin{equation} \n",
    "y(t) = (y_0e^{-t_0} + e^{-2t_0}-e^{-2t})e^t\n",
    "\\end{equation}\n",
    "\n",
    "Ahora apliquemos el metodo de Euler Explicito con paso $h=0.1$:"
   ]
  },
  {
   "cell_type": "code",
   "execution_count": 16,
   "metadata": {},
   "outputs": [
    {
     "name": "stdout",
     "output_type": "stream",
     "text": [
      "Aproximaciones: \n",
      "[1.         1.3        1.61096748 1.93581038 2.27755506 2.63937458\n",
      " 3.02461817 3.43684231 3.87984361 4.35769376 4.87477707]\n",
      "Error Global: 0.1939071469339151\n",
      "Maximo Error Local: 0.022668868433444622\n"
     ]
    }
   ],
   "source": [
    "f = lambda t, y : y+2*np.exp(-t)\n",
    "exact = lambda t, t0, y0 : np.exp(t)*(y0*np.exp(-t0)+np.exp(-2*t0)-np.exp(-2*t))\n",
    "I = (0, 1)\n",
    "y0 = 1\n",
    "\n",
    "y1 = exact(1,0,1)\n",
    "\n",
    "T, W = odesolver.solve(f,y0,I,10,method=\"Explicit Euler\")\n",
    "\n",
    "globalError = abs(W[0,10]-y1)\n",
    "maxLocalError = max([abs(W[0,i+1] - exact(T[i+1], T[i], W[0,i])) for i in range(10)])\n",
    "\n",
    "print(\"Aproximaciones: \")\n",
    "print(W[0])\n",
    "print(\"Error Global: \"+str(globalError))\n",
    "print(\"Maximo Error Local: \"+str(maxLocalError))"
   ]
  },
  {
   "cell_type": "markdown",
   "metadata": {},
   "source": [
    "Graficamente, observemos como se comporta la solucion exacta contra la aproximada:"
   ]
  },
  {
   "cell_type": "code",
   "execution_count": 24,
   "metadata": {},
   "outputs": [
    {
     "data": {
      "image/png": "[encoded data removed]",
      "text/plain": [
       "<matplotlib.figure.Figure at 0x1f8a78c3470>"
      ]
     },
     "metadata": {},
     "output_type": "display_data"
    }
   ],
   "source": [
    "plt.plot(T,exact(T,0,1))\n",
    "plt.title(\"Euler Explicito\")\n",
    "plt.plot(T,W[0], c='r')\n",
    "plt.scatter(T,W[0], c='r')\n",
    "plt.show()"
   ]
  },
  {
   "cell_type": "markdown",
   "metadata": {},
   "source": [
    "Ahora apliquemos el metodo de Euler Explicito con pasos $h = 0.1 \\times 2^{-k}$ para $k \\in \\{0,1,\\dots, 5\\}$ en el intervalo $[0,1]$:"
   ]
  },
  {
   "cell_type": "code",
   "execution_count": 10,
   "metadata": {
    "scrolled": true
   },
   "outputs": [],
   "source": [
    "header = [\"k\", \"Paso\", \"Error Local Maximo\", \"eoc\"]\n",
    "res = []\n",
    "globalErrors=[]\n",
    "steps = []\n",
    "\n",
    "for k in range(6):\n",
    "    \n",
    "    h = 0.1*(2**-k)\n",
    "    steps.append(h)\n",
    "    m = int((I[1]-I[0])/h)\n",
    "    \n",
    "    T, W = odesolver.solve(f, y0, I, m, method=\"Explicit Euler\")\n",
    "    \n",
    "    g = abs(W[0,m]-y1)\n",
    "    globalErrors.append(g)\n",
    "    \n",
    "    maxLocalError = max([abs(W[0,i+1] - exact(T[i+1], T[i], W[0,i])) for i in range(m)])\n",
    "    \n",
    "    eoc = \"NaN\" if k==0 else log(g/prevg)/log(h/prevh)\n",
    "    res.append([k, h, maxLocalError, eoc])\n",
    "    \n",
    "    prevh = h\n",
    "    prevg = g"
   ]
  },
  {
   "cell_type": "code",
   "execution_count": 25,
   "metadata": {
    "scrolled": true
   },
   "outputs": [
    {
     "data": {
      "image/png": "[encoded data removed]",
      "text/plain": [
       "<matplotlib.figure.Figure at 0x1f8a78c3a58>"
      ]
     },
     "metadata": {},
     "output_type": "display_data"
    }
   ],
   "source": [
    "plt.title(\"Error global del metodo\")\n",
    "plt.scatter(steps, globalErrors)\n",
    "plt.xscale('log')\n",
    "plt.yscale('log')\n",
    "plt.axis([1e-3,1,1e-3,1])\n",
    "plt.show()"
   ]
  },
  {
   "cell_type": "code",
   "execution_count": 12,
   "metadata": {
    "scrolled": true
   },
   "outputs": [
    {
     "name": "stdout",
     "output_type": "stream",
     "text": [
      "\\begin{tabular}{|c|r r r|} \n",
      " \\hline \n",
      "k & Paso & Error Local Maximo & eoc \\\\ \\hline \n",
      "0 & 0.1 & 0.022668868433444622 & NaN \\\\ \n",
      "1 & 0.05 & 0.005982387299206415 & 0.933587546963545 \\\\ \n",
      "2 & 0.025 & 0.0015384740393056262 & 0.9656406382261543 \\\\ \n",
      "3 & 0.0125 & 0.00039021932959482086 & 0.9825161515419355 \\\\ \n",
      "4 & 0.00625 & 9.827082448321534e-05 & 0.9911799106800493 \\\\ \n",
      "5 & 0.003125 & 2.4658225118656674e-05 & 0.9955701393945221 \\\\ \n",
      "\\hline \n",
      " \\end{tabular}\n"
     ]
    }
   ],
   "source": [
    "print(ls.latexTable(header, res, '|c|r r r|'))"
   ]
  }
 ],
 "metadata": {
  "kernelspec": {
   "display_name": "Python 3",
   "language": "python",
   "name": "python3"
  },
  "language_info": {
   "codemirror_mode": {
    "name": "ipython",
    "version": 3
   },
   "file_extension": ".py",
   "mimetype": "text/x-python",
   "name": "python",
   "nbconvert_exporter": "python",
   "pygments_lexer": "ipython3",
   "version": "3.6.4"
  }
 },
 "nbformat": 4,
 "nbformat_minor": 2
}
