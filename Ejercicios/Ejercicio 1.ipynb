{
 "cells": [
  {
   "cell_type": "code",
   "execution_count": 1,
   "metadata": {},
   "outputs": [],
   "source": [
    "import sys\n",
    "sys.path.append('../')\n",
    "import latexStrings as ls\n",
    "import numpy as np\n",
    "import matplotlib.pyplot as plt\n",
    "from math import *\n",
    "from IPython.display import Latex\n",
    "import odesolver"
   ]
  },
  {
   "cell_type": "markdown",
   "metadata": {},
   "source": [
    "# Ejercicio 1"
   ]
  },
  {
   "cell_type": "markdown",
   "metadata": {},
   "source": [
    "Tenemos el PVI:\n",
    "\n",
    "\\begin{equation} \\label{eq:1}\n",
    "y'= y + 2e^{-t} \\qquad y(0) = 1 \n",
    "\\end{equation}\n",
    "\n",
    "Dado que el lado derecho de la EDO, $y + 2e^{-t}$ es de clase $C^1$ para todo $(t,y)\\in \\mathbb{R}\\times\\mathbb{R}$, y por lo tanto Lipschitz Continua en dicha region, sabemos que existe una solucion unica a este problema, que en general es dada por:\n",
    "\n",
    "\\begin{equation} \\label{eq:2}\n",
    "y(t) = (y_0e^{-t_0} + e^{-2t_0}-e^{-2t})e^t\n",
    "\\end{equation}\n",
    "\n",
    "Ahora apliquemos el metodo de Euler Explicito con paso $h=0.1$:"
   ]
  },
  {
   "cell_type": "code",
   "execution_count": 2,
   "metadata": {},
   "outputs": [
    {
     "data": {
      "text/latex": [
       "Aproximaciones: \\[ \n",
       " w = \n",
       "\\{ \n",
       "1.0000000, 1.3000000, 1.6109675, 1.9358104, 2.2775551, 2.6393746, 3.0246182, 3.4368423, 3.8798436, 4.3576938, 4.8747771\\}\n",
       " \\]Error Global: 0.1939071469339151Maximo Error Local: 0.022668868433444622"
      ],
      "text/plain": [
       "<IPython.core.display.Latex object>"
      ]
     },
     "execution_count": 2,
     "metadata": {},
     "output_type": "execute_result"
    }
   ],
   "source": [
    "f = lambda t, y : y+2*np.exp(-t)\n",
    "exact = lambda t, t0, y0 : np.exp(t)*(y0*np.exp(-t0)+np.exp(-2*t0)-np.exp(-2*t))\n",
    "I = (0, 1)\n",
    "y0 = 1\n",
    "\n",
    "y1 = exact(1,0,1)\n",
    "\n",
    "T, W = odesolver.solve(f,y0,I,10,method=\"Explicit Euler\")\n",
    "\n",
    "globalError = abs(W[0,10]-y1)\n",
    "localErrors = [abs(W[0,i+1] - exact(T[i+1], T[i], W[0,i])) for i in range(10)]\n",
    "maxLocalError = max(localErrors)\n",
    "\n",
    "Latex(\"Aproximaciones: \" + ls.latexList(W[0], 'w', form = '%0.7f') + \"Error Global: \"+str(globalError) + \"Maximo Error Local: \"+str(maxLocalError))"
   ]
  },
  {
   "cell_type": "markdown",
   "metadata": {},
   "source": [
    "Graficamente, observemos como se comporta la solucion exacta contra la aproximada:"
   ]
  },
  {
   "cell_type": "code",
   "execution_count": 3,
   "metadata": {},
   "outputs": [
    {
     "data": {
      "image/png": "[encoded data removed]",
      "text/plain": [
       "<matplotlib.figure.Figure at 0x265d86267b8>"
      ]
     },
     "metadata": {},
     "output_type": "display_data"
    }
   ],
   "source": [
    "plt.plot(T,exact(T,0,1))\n",
    "plt.title(\"Euler Explicito\")\n",
    "plt.plot(T,W[0], c='r')\n",
    "plt.scatter(T,W[0], c='r')\n",
    "plt.show()"
   ]
  },
  {
   "cell_type": "markdown",
   "metadata": {},
   "source": [
    "Vemos que la solucion aproximada, auque sigue la direccion general, siempre va por debajo de la solucion verdadera. Esto se debe a que nuestra solucion general \\ref{eq:2} es convexa en el intervalo donde estamos buscando la solucion, y por lo tanto el metodo subestima la pendiente en sus aproximaciones.\n",
    "\n",
    "Ahora apliquemos el metodo de Euler Explicito con pasos $h = 0.1 \\times 2^{-k}$ para $k \\in \\{0,1,\\dots, 5\\}$ en el intervalo $[0,1]$:"
   ]
  },
  {
   "cell_type": "code",
   "execution_count": 4,
   "metadata": {
    "scrolled": true
   },
   "outputs": [],
   "source": [
    "res = []\n",
    "globalErrors=[]\n",
    "steps = []\n",
    "\n",
    "for k in range(6):\n",
    "    \n",
    "    h = 0.1*(2**-k)\n",
    "    m = int((I[1]-I[0])/h)\n",
    "    \n",
    "    T, W = odesolver.solve(f, y0, I, m, method=\"Explicit Euler\")\n",
    "    \n",
    "    g = abs(W[0,m]-y1)\n",
    "    globalErrors.append(g)\n",
    "    \n",
    "    localErrors = [abs(W[0,i+1] - exact(T[i+1], T[i], W[0,i])) for i in range(m)]\n",
    "    maxLocalError = max(localErrors)\n",
    "    \n",
    "    eoc = \"NaN\" if k==0 else log(g/prevg)/log(h/prevh)\n",
    "    res.append([k, h, maxLocalError, eoc])\n",
    "    \n",
    "    prevh = h\n",
    "    prevg = g"
   ]
  },
  {
   "cell_type": "markdown",
   "metadata": {},
   "source": [
    "Observemos el comportamiento del error del metodo en relacion con el tamaño del paso:"
   ]
  },
  {
   "cell_type": "code",
   "execution_count": 5,
   "metadata": {
    "scrolled": false
   },
   "outputs": [
    {
     "data": {
      "text/latex": [
       "\\begin{tabular}{|c|r r r|} \n",
       " \\hline \n",
       "k & Paso & Error Local Maximo & eoc \\\\ \\hline \n",
       "0 & 0.1 & 0.022668868433444622 & NaN \\\\ \n",
       "1 & 0.05 & 0.005982387299206415 & 0.933587546963545 \\\\ \n",
       "2 & 0.025 & 0.0015384740393056262 & 0.9656406382261543 \\\\ \n",
       "3 & 0.0125 & 0.00039021932959482086 & 0.9825161515419355 \\\\ \n",
       "4 & 0.00625 & 9.827082448321534e-05 & 0.9911799106800493 \\\\ \n",
       "5 & 0.003125 & 2.4658225118656674e-05 & 0.9955701393945221 \\\\ \n",
       "\\hline \n",
       " \\end{tabular}"
      ],
      "text/plain": [
       "<IPython.core.display.Latex object>"
      ]
     },
     "execution_count": 5,
     "metadata": {},
     "output_type": "execute_result"
    }
   ],
   "source": [
    "header = [\"k\", \"Paso\", \"Error Local Maximo\", \"eoc\"]\n",
    "Latex(ls.latexTable(header, res, '|c|r r r|'))"
   ]
  },
  {
   "cell_type": "markdown",
   "metadata": {},
   "source": [
    "Sabemos que en teoria, los pasos de Euler Explicito tienen un error del orden de $O(h^2)$, mientras que el error global es de orden $O(h)$. En efecto, vemos que el error local maximo siempre cumple la cota deseada, pues en el peor de los casos, cuando $h=0.1$, el error es aproximadamente $0.022 = 2.2h^2$, y conforme disminuye el tamaño de los pasos se sigue cumpliendo la cota.\n",
    "\n",
    "Por otro lado, observamos que la razon de convergencia experimental (eoc) empieza siendo 0.93 pero rapidamente se aproxima a  1 conforme disminuye el tamaño de los pasos utilizados en su calculo. Esto nos lleva a la conclusion de que el error global en efecto es de orden 1, lo cual es aun mas evidente al observar el comportamiento del error en terminos del tamaño del paso, como se muestra en la siguiente grafica:"
   ]
  },
  {
   "cell_type": "code",
   "execution_count": 6,
   "metadata": {
    "scrolled": true
   },
   "outputs": [
    {
     "data": {
      "image/png": "[encoded data removed]",
      "text/plain": [
       "<matplotlib.figure.Figure at 0x265d89c9be0>"
      ]
     },
     "metadata": {},
     "output_type": "display_data"
    }
   ],
   "source": [
    "steps = [i[1] for i in res]\n",
    "\n",
    "plt.title(\"Error Global de Euler Explicito\")\n",
    "plt.plot(steps,globalErrors)\n",
    "plt.scatter(steps, globalErrors)\n",
    "plt.xscale('log')\n",
    "plt.xlabel('Paso (log)')\n",
    "plt.yscale('log')\n",
    "plt.ylabel('Error Global (log)')\n",
    "plt.axis([1e-3,1,1e-3,1])\n",
    "plt.show()"
   ]
  },
  {
   "cell_type": "markdown",
   "metadata": {},
   "source": [
    "Podemos observar que, en escala logaritmica, el error global y el paso tienen una relacion lineal, que es lo esperado de un metodo con error global de orden $O(h)$."
   ]
  }
 ],
 "metadata": {
  "kernelspec": {
   "display_name": "Python 3",
   "language": "python",
   "name": "python3"
  },
  "language_info": {
   "codemirror_mode": {
    "name": "ipython",
    "version": 3
   },
   "file_extension": ".py",
   "mimetype": "text/x-python",
   "name": "python",
   "nbconvert_exporter": "python",
   "pygments_lexer": "ipython3",
   "version": "3.6.4"
  }
 },
 "nbformat": 4,
 "nbformat_minor": 2
}
