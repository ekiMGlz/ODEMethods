{
 "cells": [
  {
   "cell_type": "code",
   "execution_count": 1,
   "metadata": {
    "collapsed": true
   },
   "outputs": [],
   "source": [
    "import sys\n",
    "sys.path.append('../')\n",
    "import latexStrings as ls\n",
    "import numpy as np\n",
    "import matplotlib.pyplot as plt\n",
    "from math import *\n",
    "from IPython.display import Latex\n",
    "import odesolver\n",
    "from scipy import optimize as op\n",
    "import scipy.linalg as linear"
   ]
  },
  {
   "cell_type": "markdown",
   "metadata": {},
   "source": [
    "# Ejercicio 3"
   ]
  },
  {
   "cell_type": "markdown",
   "metadata": {},
   "source": [
    "Tomemos el siguiente PVI: \n",
    "\\begin{equation} \\label{eq:3}\n",
    " \\begin{array}{c} y_1' = - y_1 + y_2 \\\\\n",
    "y_2' =- y_1 - y_2 \\end{array} \n",
    "\\qquad \\mbox{con} \\qquad \\begin{array}{c}\n",
    "y_1(0)=0 \\\\ y_2(0)=1 \\end{array} \\qquad \\mbox{para } t\\in [0,1] \\qquad \n",
    "\\end{equation}\n"
   ]
  },
  {
   "cell_type": "markdown",
   "metadata": {},
   "source": [
    "con solución exacta  $\\overrightarrow{y}(t)=\\left(\\begin{array}{c} y_1(t) \\\\\n",
    "y_2(t)\\end{array} \\right)$ está dada por :\n",
    "\\begin{equation} \\label{eq:4}\n",
    " \\begin{array}{c} y_1(t) = e^{-t}\\sin(t) \\\\\n",
    "y_2(t) = e^{-t}\\cos(t) \\end{array}\n",
    "\\end{equation}"
   ]
  },
  {
   "cell_type": "markdown",
   "metadata": {},
   "source": [
    "Sea $\\overrightarrow{W}_j$ el vector de aprximación correspondiente a la aplicación del método del Punto Medio Implícito con paso $h_j$. La entrada $w_i$ es la aproximación en $t=1$ de $y_i$ para $i,j \\in \\{1,2\\}$"
   ]
  },
  {
   "cell_type": "markdown",
   "metadata": {},
   "source": [
    "Sea $E_{PMImpl}(h_j)=\\Vert W_j-\\overrightarrow{y}(1)\\Vert _2$ el error global en $t=1$ para $j \\in \\{1,2\\}$ \n"
   ]
  },
  {
   "cell_type": "markdown",
   "metadata": {},
   "source": [
    "$\\overrightarrow{G}_j:=\\vert W_j-\\overrightarrow{y}(1) \\vert$ $\\quad$cuya entrada $g_i=\\vert w_1-y_i(1) \\vert$ "
   ]
  },
  {
   "cell_type": "markdown",
   "metadata": {},
   "source": [
    "Aplicaremos el método  para $h_1=0.1$ y $h_2=0.01$:"
   ]
  },
  {
   "cell_type": "code",
   "execution_count": 2,
   "metadata": {
    "collapsed": false
   },
   "outputs": [
    {
     "data": {
      "text/latex": [
       "$h_1=0.1$\\[ \n",
       " \\vec{W_1} = \n",
       "\\begin{pmatrix} \n",
       "0.310408 \\\\ \n",
       "0.198583 \\\\ \n",
       "\\end{pmatrix}\n",
       " \\]\\[ \n",
       " \\vec{G_1} = \n",
       "\\begin{pmatrix} \n",
       "0.000848 \\\\ \n",
       "0.000183 \\\\ \n",
       "\\end{pmatrix}\n",
       " \\] $E_{PMImpl}(h_1) = 0.000867819813142771$"
      ],
      "text/plain": [
       "<IPython.core.display.Latex object>"
      ]
     },
     "execution_count": 2,
     "metadata": {},
     "output_type": "execute_result"
    }
   ],
   "source": [
    "f = lambda t, y : np.array([-y[0]+y[1], -y[0]-y[1]])\n",
    "soln = lambda t: np.array([np.exp(-T)*np.sin(T), np.exp(-T)*np.cos(T)])\n",
    "y0 = np.array([0,1])\n",
    "T,W = odesolver.solve(f, y0, (0,1), 10, method = 'Implicit Midpoint')\n",
    "globalError1=linear.norm(W[:,10]-soln(T)[:,10])\n",
    "dif=abs(W[:,10]-soln(T)[:,10]) #error global por entrada en t=1\n",
    "Latex('$h_1=0.1$'+ ls.latexVector(W[:,10],'W_1',form='%f')+ ls.latexVector(dif,'G_1',form='%f') +' $E_{PMImpl}(h_1) = '+str(globalError1)+'$')"
   ]
  },
  {
   "cell_type": "code",
   "execution_count": 3,
   "metadata": {
    "collapsed": false
   },
   "outputs": [
    {
     "data": {
      "text/latex": [
       "$h_2=0.01$\\[ \n",
       " \\vec{W_2} = \n",
       "\\begin{pmatrix} \n",
       "0.309568 \\\\ \n",
       "0.198764 \\\\ \n",
       "\\end{pmatrix}\n",
       " \\]\\[ \n",
       " \\vec{G_2} = \n",
       "\\begin{pmatrix} \n",
       "0.000008 \\\\ \n",
       "0.000002 \\\\ \n",
       "\\end{pmatrix}\n",
       " \\]$E_{PMImpl}(h_2) = 8.671073839286167e-06$"
      ],
      "text/plain": [
       "<IPython.core.display.Latex object>"
      ]
     },
     "execution_count": 3,
     "metadata": {},
     "output_type": "execute_result"
    }
   ],
   "source": [
    "T,W = odesolver.solve(f, y0, (0,1), 100, method = 'Implicit Midpoint')\n",
    "globalError2=linear.norm(W[:,100]-soln(1)[:,100])\n",
    "dif=abs(W[:,100]-soln(T)[:,100]) #error global por entrada en t=1\n",
    "Latex('$h_2=0.01$'+ ls.latexVector(W[:,100],'W_2',form='%f')+ ls.latexVector(dif,'G_2',form='%f') + '$E_{PMImpl}(h_2) = '+str(globalError2)+'$')"
   ]
  },
  {
   "cell_type": "markdown",
   "metadata": {},
   "source": [
    "El método del Punto Medio Implícito con paso $  \\hat{h}  $ tiene un error global de de orden 2 la forma: $$E_{PMImpl}=0\\left (\\hat{h}^2\\right)$$ "
   ]
  },
  {
   "cell_type": "markdown",
   "metadata": {},
   "source": [
    "Con $\\hat{h}:=h_1=0.1$ obtenemos: $$E_{PMImpl}(h_1)=O\\left ( h_1^2 \\right ) = O \\left( 0.1^2 \\right)$$"
   ]
  },
  {
   "cell_type": "markdown",
   "metadata": {},
   "source": [
    "Con $\\hat{h}:=h_2=0.01$ obtenemos: $$E_{PMImpl}(h_2)=O\\left ( h_2^2 \\right ) = O \\left( 0.01^2 \\right)$$"
   ]
  },
  {
   "cell_type": "markdown",
   "metadata": {},
   "source": [
    "Observamos lo siguiente: $$E_{PMImpl}(h_1)=O\\left ( h_1^2 \\right ) $$ $$  E_{PMImpl}(h_2)=O(h_2^2)$$\n",
    "$$  h_2= \\frac{h_1}{10}   \\Rightarrow      E_{PMImpl}(h_2) =O\\left(\\frac{h_1}{10}\\right)^2  $$\n",
    "$$ \\Rightarrow E_{PMImpl}(h_2) \\approx \\frac{1}{100}O(h_1^2)=\\frac{1}{100}E_{PMImpl}(h_1) $$"
   ]
  },
  {
   "cell_type": "markdown",
   "metadata": {},
   "source": [
    "Esto implica que el error global del método para $h_2$ es aproximadamente 100 veces menor al error global con el paso $h_1$.\n"
   ]
  },
  {
   "cell_type": "code",
   "execution_count": 4,
   "metadata": {
    "collapsed": false
   },
   "outputs": [
    {
     "data": {
      "text/latex": [
       "$(0.01)E_{PMImpl}(h_1)=8.67819813142771e-06$"
      ],
      "text/plain": [
       "<IPython.core.display.Latex object>"
      ]
     },
     "execution_count": 4,
     "metadata": {},
     "output_type": "execute_result"
    }
   ],
   "source": [
    "Latex('$'+'(0.01)' + 'E_{PMImpl}(h_1)='+str(globalError1/100) + '$')"
   ]
  },
  {
   "cell_type": "code",
   "execution_count": 5,
   "metadata": {
    "collapsed": false,
    "scrolled": true
   },
   "outputs": [
    {
     "data": {
      "text/latex": [
       "$ E_{PMImpl}(h_2)=8.671073839286167e-06$"
      ],
      "text/plain": [
       "<IPython.core.display.Latex object>"
      ]
     },
     "execution_count": 5,
     "metadata": {},
     "output_type": "execute_result"
    }
   ],
   "source": [
    "Latex('$ E_{PMImpl}(h_2)='+str(globalError2) + '$')  "
   ]
  },
  {
   "cell_type": "markdown",
   "metadata": {},
   "source": [
    "En la operación anterior podemos observar que la reducción del error de $h_1$ a $h_2=\\frac{h_1}{10}$es consistente  ya que: $$ E_{PMImpl}(h_2)=8.671073839286167e−06 \\approx 8.67819813142771e−06= \\frac{1}{100}E_{PMImpl}(h_1) $$"
   ]
  },
  {
   "cell_type": "code",
   "execution_count": null,
   "metadata": {
    "collapsed": true
   },
   "outputs": [],
   "source": []
  },
  {
   "cell_type": "code",
   "execution_count": null,
   "metadata": {
    "collapsed": true
   },
   "outputs": [],
   "source": []
  },
  {
   "cell_type": "markdown",
   "metadata": {},
   "source": [
    "# Shooting Method"
   ]
  },
  {
   "cell_type": "markdown",
   "metadata": {},
   "source": [
    "# Tomemos el siguiente PVI: \n",
    "\n",
    "\\begin{equation} \n",
    "\\label{eq:3}\n",
    " \\begin{array}{c} y'' = 10 y' (1 - y)\\end{array} \n",
    "\\qquad \\mbox{con} \\qquad \\begin{array}{c}\n",
    "y(0)=1 \\\\ y(1) = 1 - pi/20 \\end{array} \\qquad \\mbox{para } t\\in [0,1] \\qquad \n",
    "\n",
    "\\mbox{Que podemos reescribir como un sistema de ecuaciones de primer orden de la siguiente manera:} \\\\\n",
    "\\begin{array}{c} y_1' = y_2 \\\\\n",
    "y_2' = 10 y_2 (1 - y_1) \\end{array}\n",
    "\n",
    "\\end{equation}\n",
    "\n"
   ]
  },
  {
   "cell_type": "markdown",
   "metadata": {},
   "source": [
    "con solución exacta\n",
    " está dada por :\n",
    "\\begin{equation}\n",
    " \\begin{array}{c} y(t) = 1-\\frac{\\pi}{20} \\tan(\\frac{\\pi}{4}t) \\end{array}\n",
    "\\end{equation}\n"
   ]
  },
  {
   "cell_type": "markdown",
   "metadata": {},
   "source": [
    "así, definimos f como"
   ]
  },
  {
   "cell_type": "code",
   "execution_count": 90,
   "metadata": {
    "collapsed": true
   },
   "outputs": [],
   "source": [
    "f = lambda t, y : np.array([y[1], 10*y[1]*(1-y[0])])"
   ]
  },
  {
   "cell_type": "code",
   "execution_count": 240,
   "metadata": {
    "collapsed": true
   },
   "outputs": [],
   "source": [
    "exact = lambda t : 1-pi/20*tan(pi/4*t)"
   ]
  },
  {
   "cell_type": "markdown",
   "metadata": {},
   "source": [
    "Para aplicar Shooting Method, tomamos una aproximación inicial de y' = 1, o bien,"
   ]
  },
  {
   "cell_type": "markdown",
   "metadata": {},
   "source": [
    "$\\overrightarrow{y}(t)=\\left(\\begin{array}{c} y_1(t) \\\\\n",
    "y_2(t)\\end{array} \\right) = \\left(\\begin{array}{c} 1 \\\\ 1 \\right) \\end{array}"
   ]
  },
  {
   "cell_type": "markdown",
   "metadata": {},
   "source": [
    "y utilizaremos el método de Runge Kutta 4 con 1000 pasos para aproximar la función en y(1)"
   ]
  },
  {
   "cell_type": "code",
   "execution_count": 241,
   "metadata": {
    "collapsed": true
   },
   "outputs": [],
   "source": [
    "y0 = [1, 0]"
   ]
  },
  {
   "cell_type": "code",
   "execution_count": 242,
   "metadata": {
    "collapsed": true
   },
   "outputs": [],
   "source": [
    "T, W = odesolver.solve(f, y0, (0,1), 1000,  method = 'rk4')"
   ]
  },
  {
   "cell_type": "code",
   "execution_count": 243,
   "metadata": {
    "collapsed": false
   },
   "outputs": [
    {
     "data": {
      "text/plain": [
       "1.0"
      ]
     },
     "execution_count": 243,
     "metadata": {},
     "output_type": "execute_result"
    }
   ],
   "source": [
    "ans = W[0][-1]\n",
    "ans"
   ]
  },
  {
   "cell_type": "markdown",
   "metadata": {},
   "source": [
    "Veamos que tan acertada fue nuestra elección"
   ]
  },
  {
   "cell_type": "code",
   "execution_count": 245,
   "metadata": {
    "collapsed": false
   },
   "outputs": [
    {
     "data": {
      "text/plain": [
       "True"
      ]
     },
     "execution_count": 245,
     "metadata": {},
     "output_type": "execute_result"
    }
   ],
   "source": [
    "exact(1) == 1-pi/20"
   ]
  },
  {
   "cell_type": "code",
   "execution_count": 152,
   "metadata": {
    "collapsed": false
   },
   "outputs": [
    {
     "data": {
      "text/plain": [
       "0.15707963267948966"
      ]
     },
     "execution_count": 152,
     "metadata": {},
     "output_type": "execute_result"
    }
   ],
   "source": [
    "abs(ans - (1 - pi/20))"
   ]
  },
  {
   "cell_type": "markdown",
   "metadata": {},
   "source": [
    "Parece ser que nuestra aproximación inicial sobreestimó la solución. Usaremos el método de Newton para seguir generando aproximaciones."
   ]
  },
  {
   "cell_type": "markdown",
   "metadata": {},
   "source": [
    "Definimos una función \n",
    "$F : \\mathbb{R} \\rightarrow \\mathbb{R}$\n",
    "que toma una aproximación inical y regresa la distancia "
   ]
  },
  {
   "cell_type": "code",
   "execution_count": 178,
   "metadata": {
    "collapsed": true
   },
   "outputs": [],
   "source": [
    "F = lambda yp0 : odesolver.solve(f, [y0, yp0], I, 1000,  method = 'rk4')[1][0][-1]"
   ]
  },
  {
   "cell_type": "code",
   "execution_count": 179,
   "metadata": {
    "collapsed": true
   },
   "outputs": [],
   "source": [
    "I = (0,1)"
   ]
  },
  {
   "cell_type": "code",
   "execution_count": 181,
   "metadata": {
    "collapsed": true
   },
   "outputs": [],
   "source": [
    "y0 = 1"
   ]
  },
  {
   "cell_type": "code",
   "execution_count": 182,
   "metadata": {
    "collapsed": false
   },
   "outputs": [
    {
     "data": {
      "text/plain": [
       "1.4371120401610173"
      ]
     },
     "execution_count": 182,
     "metadata": {},
     "output_type": "execute_result"
    }
   ],
   "source": [
    "F(1)"
   ]
  },
  {
   "cell_type": "code",
   "execution_count": 227,
   "metadata": {
    "collapsed": false
   },
   "outputs": [],
   "source": [
    "def shooting(f, y0, yp0, sol, I, m=1000, tol = 1e-7):\n",
    "    F = lambda yp0 : odesolver.solve(f, [y0, yp0], I, m,  method = 'rk4')[1][0][-1] - sol\n",
    "    y_init = op.newton(F, yp0, tol = tol, maxiter=7)\n",
    "    return y_init"
   ]
  },
  {
   "cell_type": "code",
   "execution_count": 228,
   "metadata": {
    "collapsed": true
   },
   "outputs": [],
   "source": [
    "# op.newton no puede outputear el número de iteraciones, pero a prueba y error encontramos que toma 7 para converger"
   ]
  },
  {
   "cell_type": "code",
   "execution_count": 260,
   "metadata": {
    "collapsed": false,
    "scrolled": true
   },
   "outputs": [
    {
     "data": {
      "text/plain": [
       "-0.12337005501362536"
      ]
     },
     "execution_count": 260,
     "metadata": {},
     "output_type": "execute_result"
    }
   ],
   "source": [
    "y_init = shooting(f, 1, 0, exact(1), (0,1), tol = 1e-10)\n",
    "#y_init = shooting(f, 1, 0, 1 - pi/20, (0,1), tol = 1e-10)\n",
    "y_init"
   ]
  },
  {
   "cell_type": "code",
   "execution_count": null,
   "metadata": {
    "collapsed": true
   },
   "outputs": [],
   "source": []
  },
  {
   "cell_type": "markdown",
   "metadata": {},
   "source": [
    "Tomando y_init como aproximación inicial a y'"
   ]
  },
  {
   "cell_type": "code",
   "execution_count": 261,
   "metadata": {
    "collapsed": true
   },
   "outputs": [],
   "source": [
    "y0 = [1, y_init]"
   ]
  },
  {
   "cell_type": "code",
   "execution_count": 262,
   "metadata": {
    "collapsed": true
   },
   "outputs": [],
   "source": [
    "_, W = odesolver.solve(f, y0, (0,1), 1000,  method = 'rk4')\n",
    "ans = W[0][-1]"
   ]
  },
  {
   "cell_type": "code",
   "execution_count": 263,
   "metadata": {
    "collapsed": false
   },
   "outputs": [
    {
     "data": {
      "text/plain": [
       "9.992007221626409e-16"
      ]
     },
     "execution_count": 263,
     "metadata": {},
     "output_type": "execute_result"
    }
   ],
   "source": [
    "abs(ans - (1 - pi/20))"
   ]
  },
  {
   "cell_type": "markdown",
   "metadata": {
    "collapsed": true
   },
   "source": [
    "Observamos que con esta aprximación inicial se satisface el BVP"
   ]
  },
  {
   "cell_type": "code",
   "execution_count": null,
   "metadata": {
    "collapsed": true
   },
   "outputs": [],
   "source": []
  }
 ],
 "metadata": {
  "anaconda-cloud": {},
  "kernelspec": {
   "display_name": "Python 3",
   "language": "python",
   "name": "python3"
  },
  "language_info": {
   "codemirror_mode": {
    "name": "ipython",
    "version": 3
   },
   "file_extension": ".py",
   "mimetype": "text/x-python",
   "name": "python",
   "nbconvert_exporter": "python",
   "pygments_lexer": "ipython3",
   "version": "3.6.4"
  }
 },
 "nbformat": 4,
 "nbformat_minor": 2
}
